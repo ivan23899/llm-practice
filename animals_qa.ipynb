{
 "cells": [
  {
   "cell_type": "code",
   "execution_count": 1,
   "metadata": {},
   "outputs": [],
   "source": [
    "from langchain.chains import RetrievalQA\n",
    "from langchain_ollama.chat_models import ChatOllama\n",
    "from langchain.document_loaders import CSVLoader\n",
    "from langchain.vectorstores import DocArrayInMemorySearch\n",
    "from IPython.display import display, Markdown\n",
    "from langchain_ollama import OllamaLLM\n",
    "\n",
    "from langchain.indexes import VectorstoreIndexCreator\n",
    "from langchain_ollama import OllamaEmbeddings"
   ]
  },
  {
   "cell_type": "markdown",
   "metadata": {},
   "source": [
    "### LLM Ollama from LangChain"
   ]
  },
  {
   "cell_type": "code",
   "execution_count": 2,
   "metadata": {},
   "outputs": [],
   "source": [
    "llm = OllamaLLM(model=\"llama3.2:1b\", temperature=0)\n",
    "embed = OllamaEmbeddings(model=\"llama3.2:1b\")"
   ]
  },
  {
   "cell_type": "code",
   "execution_count": 4,
   "metadata": {},
   "outputs": [],
   "source": [
    "file_path = './src/animals_info.csv'\n",
    "loader = CSVLoader(file_path=file_path)"
   ]
  },
  {
   "cell_type": "code",
   "execution_count": 5,
   "metadata": {},
   "outputs": [
    {
     "name": "stderr",
     "output_type": "stream",
     "text": [
      "/home/ivan/anaconda3/envs/IA/lib/python3.11/site-packages/pydantic/_migration.py:283: UserWarning: `pydantic.error_wrappers:ValidationError` has been moved to `pydantic:ValidationError`.\n",
      "  warnings.warn(f'`{import_path}` has been moved to `{new_location}`.')\n"
     ]
    }
   ],
   "source": [
    "index = VectorstoreIndexCreator(\n",
    "    vectorstore_cls=DocArrayInMemorySearch,\n",
    "    embedding=embed\n",
    ").from_loaders([loader])"
   ]
  },
  {
   "cell_type": "code",
   "execution_count": 28,
   "metadata": {},
   "outputs": [],
   "source": [
    "query = \"El contexto que te comparti es un documento .csv, este contiene la siguiente estructura \\\n",
    "Name: El nombre común o científico del animal (por ejemplo, 'León' o Panthera leo). \\\n",
    "Kingdom: El reino al que pertenece el animal (por ejemplo, 'Animalia' para todos los animales). \\\n",
    "Phylum: El filo del animal, una categoría taxonómica amplia (por ejemplo, 'Chordata' para animales con columna vertebral). \\\n",
    "Subphylum: Una subdivisión del filo, si corresponde (por ejemplo, 'Vertebrata' para animales con columna vertebral). \\\n",
    "Class: La clase del animal (por ejemplo, 'Mammalia' para mamíferos). \\\n",
    "Order: El orden del animal, una clasificación más específica dentro de la clase (por ejemplo, 'Carnivora' para animales carnívoros). \\\n",
    "Suborder: Una subdivisión del orden, si aplica (por ejemplo, 'Feliformia' para animales similares a felinos). \\\n",
    "Family: La familia taxonómica del animal (por ejemplo, 'Felidae' para gatos). \\\n",
    "Genus: El género del animal (por ejemplo, Panthera para grandes felinos). \\\n",
    "Species: La especie específica del animal (por ejemplo, Panthera leo para el león). \\\n",
    "Population size: El tamaño estimado de la población de la especie (por ejemplo, '20,000' para una población de 20,000 individuos). \\\n",
    "Life span: La expectativa de vida promedio del animal, generalmente en años (por ejemplo, '15 años' para un león). \\\n",
    "Top speed: La velocidad máxima que puede alcanzar el animal, generalmente en kilómetros por hora (por ejemplo, '80 km/h' para un guepardo). \\\n",
    "Weight: El peso promedio del animal, generalmente en kilogramos (por ejemplo, '190 kg' para un león macho adulto). \\\n",
    "Height: La altura promedio del animal, usualmente medida desde los pies hasta los hombros, en metros o centímetros (por ejemplo, '1.2 m' para un león). \\\n",
    "Length: La longitud del animal, incluyendo la cola si es relevante, en metros o centímetros (por ejemplo, '2.5 m' para un león). \\\n",
    "Attributes: Características o peculiaridades notables del animal (por ejemplo, 'pelo dorado y melena en machos'). \\\n",
    "Distribution: Las regiones geográficas donde se encuentra el animal, como continentes o hábitats específicos (por ejemplo, 'África subsahariana' para el león). \\\n",
    "Habits: Los comportamientos o hábitos del animal (por ejemplo, 'caza en manadas'). \\\n",
    "Diet: La dieta principal del animal, como carnívoro, herbívoro u omnívoro (por ejemplo, 'carnívoro'). \\\n",
    "Mating_Habits: Información sobre los hábitos de apareamiento, como si son monógamos, polígamos o tienen una temporada específica (por ejemplo, 'apareamiento durante todo el año'). \\\n",
    "Population: Información adicional o comentarios sobre la población, como tendencias de crecimiento, declive o estado de conservación (por ejemplo, 'en peligro de extinción'). \\\n",
    "Name: Nombre del animal \\\n",
    "Kingdom: Reino al que pertenece \\\n",
    "Necesito que me digas a que familia pertenece el jaguar y cual es su top speed, genera la respuesta en una tabla markdown\""
   ]
  },
  {
   "cell_type": "code",
   "execution_count": 29,
   "metadata": {},
   "outputs": [],
   "source": [
    "response = index.query(query, llm=llm)"
   ]
  },
  {
   "cell_type": "code",
   "execution_count": 30,
   "metadata": {},
   "outputs": [
    {
     "data": {
      "text/markdown": [
       "| Familia | Top Speed |\n",
       "| --- | --- |\n",
       "| Felidae | 80 km/h |"
      ],
      "text/plain": [
       "<IPython.core.display.Markdown object>"
      ]
     },
     "metadata": {},
     "output_type": "display_data"
    }
   ],
   "source": [
    "display(Markdown(response))"
   ]
  },
  {
   "cell_type": "code",
   "execution_count": null,
   "metadata": {},
   "outputs": [],
   "source": []
  }
 ],
 "metadata": {
  "kernelspec": {
   "display_name": "IA",
   "language": "python",
   "name": "python3"
  },
  "language_info": {
   "codemirror_mode": {
    "name": "ipython",
    "version": 3
   },
   "file_extension": ".py",
   "mimetype": "text/x-python",
   "name": "python",
   "nbconvert_exporter": "python",
   "pygments_lexer": "ipython3",
   "version": "3.11.11"
  }
 },
 "nbformat": 4,
 "nbformat_minor": 2
}
